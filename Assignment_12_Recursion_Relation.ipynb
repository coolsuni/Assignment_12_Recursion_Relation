{
 "cells": [
  {
   "cell_type": "code",
   "execution_count": 1,
   "id": "4f2c1522-a5c8-4eb2-81a6-77bfe5527b19",
   "metadata": {},
   "outputs": [],
   "source": [
    "# 1) Find the value of T(2) for the recurrence relation T(n) = 3T(n-1) + 12n, given that T(0)=5.\n",
    "\n"
   ]
  },
  {
   "cell_type": "code",
   "execution_count": null,
   "id": "4e00b0d8-77c9-4755-a5b9-c2e786eb7c20",
   "metadata": {},
   "outputs": [],
   "source": [
    "T(n)=3T(n-1)+12n\n",
    "\n",
    "substitute n=1:\n",
    "    \n",
    "T(1)=3T(0)+12\n",
    "T(1)=15+12=27\n",
    "\n",
    "substitute n=2: \n",
    "    \n",
    "T(2)=3T(1)+24\n",
    "T(2)=3(27)+24=105\n",
    "\n",
    "result=105 "
   ]
  },
  {
   "cell_type": "code",
   "execution_count": null,
   "id": "8da3f5b1-8553-4ca7-8200-23c6f519aa5d",
   "metadata": {},
   "outputs": [],
   "source": [
    "# 2) Given a recurrence relation, solve it using the substitution method:"
   ]
  },
  {
   "cell_type": "code",
   "execution_count": null,
   "id": "6bf75e02-b4b4-4b5f-81bb-4a429e25f118",
   "metadata": {},
   "outputs": [],
   "source": [
    "a) T(n) = T(n-1) + c"
   ]
  },
  {
   "cell_type": "code",
   "execution_count": null,
   "id": "a773b610-a153-4e7b-bf01-48d3990133b5",
   "metadata": {},
   "outputs": [],
   "source": [
    "T(n-1)=T(n-2)+c\n",
    "\n",
    "then,\n",
    "T(n)=T(n-2)+2c\n",
    "\n",
    "thus, for k times\n",
    "\n",
    "T(n)=T(n-k)+kc\n",
    "\n",
    "k=n-1\n",
    "T(n)=T(1)+(n-1)c"
   ]
  },
  {
   "cell_type": "code",
   "execution_count": null,
   "id": "66a3f666-c0e3-4378-ab3d-d8af0f085b35",
   "metadata": {},
   "outputs": [],
   "source": [
    "b) T(n) = 2T(n/2) + n"
   ]
  },
  {
   "cell_type": "code",
   "execution_count": null,
   "id": "bc061886-2464-4015-a4e6-1869f5dc3cdd",
   "metadata": {},
   "outputs": [],
   "source": [
    "T(n/2)=2T(n/4)+n/2\n",
    "\n",
    "then,\n",
    "T(n)=2(2 T(n/4)+n/2)+n\n",
    "     T(n)=4T(n/4)+2n\n",
    "    \n",
    "    thus, for k times\n",
    "    \n",
    "    T(n)= 2^k T(n/2^k)+kn\n",
    "    by substituting  n=2^k:\n",
    "        \n",
    "    n=2^k then k=logn base2 \n",
    "    T(n)=nT(1)+(logn base2) *n"
   ]
  },
  {
   "cell_type": "code",
   "execution_count": null,
   "id": "295be9b7-ba38-4669-8188-6a29629c24d8",
   "metadata": {},
   "outputs": [],
   "source": [
    " c) T(n) = 2T(n/2) + c"
   ]
  },
  {
   "cell_type": "code",
   "execution_count": null,
   "id": "f0b69662-0e74-4f7e-a65e-6e2aea3a99da",
   "metadata": {},
   "outputs": [],
   "source": [
    "T(n/2)=2T(n/4)+c\n",
    "\n",
    "    then,\n",
    "    T(n)=2(2 T(n/4)+c)+c\n",
    "     T(n)=4T(n/4)+3c\n",
    "        \n",
    "    thus, for k times\n",
    "    \n",
    "    T(n)= 2^k T(n/2^k)+(2k-1)c\n",
    "    by substituting n=2^k \n",
    "    n=2^k then k=logn base2 \n",
    "    T(n)=nT(1)+(2(logn base2)-1) *c   "
   ]
  },
  {
   "cell_type": "code",
   "execution_count": null,
   "id": "c10fd35e-8c1c-4736-8c91-e0e6a27601e0",
   "metadata": {},
   "outputs": [],
   "source": [
    "d) T(n) = T(n/2) + c"
   ]
  },
  {
   "cell_type": "code",
   "execution_count": null,
   "id": "e47d989a-3795-4eea-a8d5-87db3ade38dc",
   "metadata": {},
   "outputs": [],
   "source": [
    " T(n/2)=T(n/4)+c\n",
    "    \n",
    "    then,\n",
    "    T(n)= T(n/4)+c+c\n",
    "     T(n)=T(n/4)+2c\n",
    "        \n",
    "    thus, for k times\n",
    "    \n",
    "    T(n)= T(n/2^k)+kc\n",
    "     thus by substituting  n=2^k \n",
    "    n=2^k then k=logn base2 \n",
    "    T(n)=T(1)+(logn base2)*c"
   ]
  },
  {
   "cell_type": "code",
   "execution_count": null,
   "id": "4f9a04fb-d8da-41ee-a880-fec092b07ffd",
   "metadata": {},
   "outputs": [],
   "source": [
    "#3) Given a recurrence relation, solve it using the recursive tree approach:"
   ]
  },
  {
   "cell_type": "code",
   "execution_count": null,
   "id": "b5ebe76d-5908-4119-8fe7-7dcb55a428c2",
   "metadata": {},
   "outputs": [],
   "source": [
    "a) T(n) = 2T(n-1) +1"
   ]
  },
  {
   "cell_type": "code",
   "execution_count": null,
   "id": "fe52ebc8-dcd4-4087-a31f-4edb1e9fc36c",
   "metadata": {},
   "outputs": [],
   "source": [
    "            T(n)\n",
    "           /    \\\n",
    "      T(n-1)      T(n-1)\n",
    "        /  \\          /   \\\n",
    "    T(n-2) T(n-2) T(n-2) T(n-2)\n",
    "      ...   ...   ...   ...\n",
    "       |     |     |     |\n",
    "  \n",
    "thus, for k times\n",
    "LEFT SIDE              RIGHT SIDE\n",
    "n-k=0                   n-k=0\n",
    "\n",
    "Level 0: 1T(n)\n",
    "Level 1: 2T(n-1)\n",
    "Level 2: 4T(n-2)\n",
    "Level 3: 8T(n-3)\n",
    ".\n",
    ".\n",
    ".\n",
    "T(n)+2T(n−1)+4T(n−2)+8T(n−3)+…+2^kT(n−k)\n",
    "if we substitute n-k=1 i.e. k=n-1 \n",
    "T(n)+2T(n−1)+4T(n−2)+8T(n−3)+…+2^(n-1)T(1)\n",
    "by geometric progression \n",
    "T(n)=2^n-T(1)\n",
    "O(2^n)"
   ]
  },
  {
   "cell_type": "code",
   "execution_count": null,
   "id": "c7ed16aa-f09f-461d-be44-6391f6cab45b",
   "metadata": {},
   "outputs": [],
   "source": [
    "b) T(n) = 2T(n/2) + n"
   ]
  },
  {
   "cell_type": "code",
   "execution_count": null,
   "id": "1c496ba0-5a0f-45de-8660-5ae7e6fe2335",
   "metadata": {},
   "outputs": [],
   "source": [
    "         T(n)---------n\n",
    "       /    \\\n",
    " T(n/2)       T(n/2)-------2(n/2)\n",
    "   / \\          /   \\\n",
    "T(n/4) T(n/4) T(n/4) T(n/4) ------4(n/4)\n",
    "  / \\    ...   ...   ...\n",
    "...  ...\n",
    "Now, \n",
    "LHS\n",
    "n/2^(k)=1        The depth of the tree is logn base 2.\n",
    "k=log n base 2\n",
    "Now,\n",
    "\n",
    "T(n)=n+n/2+n/4+n/8.......+n/2^k\n",
    "T(n)=n(1+1/2+1/4+.........1/2 ^logn base 2)\n",
    "by geometric progression \n",
    "sum of the series is 1/1-r=2\n",
    "T(n)=n(2)\n",
    "time complexity is  O(n)"
   ]
  }
 ],
 "metadata": {
  "kernelspec": {
   "display_name": "Python 3 (ipykernel)",
   "language": "python",
   "name": "python3"
  },
  "language_info": {
   "codemirror_mode": {
    "name": "ipython",
    "version": 3
   },
   "file_extension": ".py",
   "mimetype": "text/x-python",
   "name": "python",
   "nbconvert_exporter": "python",
   "pygments_lexer": "ipython3",
   "version": "3.10.8"
  }
 },
 "nbformat": 4,
 "nbformat_minor": 5
}
